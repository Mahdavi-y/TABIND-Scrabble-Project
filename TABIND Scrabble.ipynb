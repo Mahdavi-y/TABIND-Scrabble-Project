{
 "cells": [
  {
   "attachments": {},
   "cell_type": "markdown",
   "id": "17c6a9e1-c3d1-4382-970b-886621f45784",
   "metadata": {},
   "source": [
    "# TABIND Scrabble Project\n",
    "The objective of this project is to develop a program that takes the letter combination `“tabind”` only once and creates an alphabetical list of all the words, from a Scrabble dictionary that can be found with those letters."
   ]
  },
  {
   "cell_type": "code",
   "execution_count": 2,
   "id": "44693e26-8b02-4869-8071-ba63ee057fb2",
   "metadata": {},
   "outputs": [],
   "source": [
    "import pandas as pd\n",
    "import numpy as np"
   ]
  },
  {
   "cell_type": "code",
   "execution_count": 18,
   "id": "6d10fe9b-e9e3-42dc-ba73-e0cc0e6b7d63",
   "metadata": {},
   "outputs": [
    {
     "name": "stdout",
     "output_type": "stream",
     "text": [
      "279496 words in the Collins Scrabble Dictrionay\n"
     ]
    }
   ],
   "source": [
    "# Read Scrabble Dictionary into a file:\n",
    "\n",
    "with open('Collins_Scrabble_Words_2019.txt','r') as Collins_file:\n",
    "    lines = Collins_file.readlines()\n",
    "print(len(lines),'words in the Collins Scrabble Dictrionay')"
   ]
  },
  {
   "cell_type": "code",
   "execution_count": 19,
   "id": "cd22c0e2-fd30-45ab-a893-1105375c0aa6",
   "metadata": {},
   "outputs": [
    {
     "name": "stdout",
     "output_type": "stream",
     "text": [
      "279496 words in the Collins Scrabble Dictrionay after cleaning\n"
     ]
    }
   ],
   "source": [
    "# Make a list of all Dictionary words and remove space and `\\n` characters\n",
    "\n",
    "temp_dict = []\n",
    "for w in lines:\n",
    "    w.strip()\n",
    "    w.replace('\\n','')\n",
    "    temp_dict.append(w.replace('\\n',''))\n",
    "\n",
    "print(len(temp_dict),'words in the Collins Scrabble Dictrionay after cleaning')"
   ]
  },
  {
   "cell_type": "code",
   "execution_count": 22,
   "id": "3215fd8e-0f3c-4f48-a108-3dd8f85e2c7c",
   "metadata": {},
   "outputs": [
    {
     "name": "stdout",
     "output_type": "stream",
     "text": [
      "['AB', 'ABID', 'AD', 'ADIT', 'AI', 'AID', 'AIN', 'AIT', 'AN', 'AND', 'ANI', 'ANT', 'ANTI', 'AT', 'BA', 'BAD', 'BAIT', 'BAN', 'BAND', 'BANDIT', 'BANI', 'BANT', 'BAT', 'BI', 'BID', 'BIN', 'BIND', 'BINT', 'BIT', 'DA', 'DAB', 'DAINT', 'DAN', 'DANT', 'DI', 'DIB', 'DIN', 'DINT', 'DIT', 'DITA', 'ID', 'IDANT', 'IN', 'IT', 'ITA', 'NA', 'NAB', 'NAT', 'NIB', 'NID', 'NIT', 'TA', 'TAB', 'TABI', 'TABID', 'TAD', 'TAI', 'TAIN', 'TAN', 'TI', 'TIAN', 'TID', 'TIN', 'TINA', 'TIND']\n",
      "--------------------\n",
      "65 dictionary words that use the letters of \"tabind\" only once\n"
     ]
    }
   ],
   "source": [
    "check = True\n",
    "string1 = 'tabind'\n",
    "word_list = []\n",
    "\n",
    "# Go through the Scrabble dictionary and add those words to the 'word_list' \n",
    "# that meet the problem conditions\n",
    "for w in temp_dict:\n",
    "    if len(w) < len(string1)+1:\n",
    "        check = True\n",
    "\n",
    "        # discard words that have letters not in 'tabind'\n",
    "        for l in w:\n",
    "            if l.lower() not in string1:\n",
    "                check = False\n",
    "        \n",
    "        # discard words with duplicate letters\n",
    "        if len(set(w)) < len(w):\n",
    "            check = False\n",
    "            \n",
    "        if check:\n",
    "            word_list.append(w)\n",
    "            \n",
    "print(word_list)\n",
    "print('-'*20)\n",
    "print(len(word_list), 'dictionary words that use the letters of \"tabind\" only once')"
   ]
  },
  {
   "cell_type": "code",
   "execution_count": null,
   "id": "d9916192-686a-406f-8d46-0d535220f85f",
   "metadata": {},
   "outputs": [],
   "source": []
  }
 ],
 "metadata": {
  "kernelspec": {
   "display_name": "Python 3 (ipykernel)",
   "language": "python",
   "name": "python3"
  },
  "language_info": {
   "codemirror_mode": {
    "name": "ipython",
    "version": 3
   },
   "file_extension": ".py",
   "mimetype": "text/x-python",
   "name": "python",
   "nbconvert_exporter": "python",
   "pygments_lexer": "ipython3",
   "version": "3.12.4"
  }
 },
 "nbformat": 4,
 "nbformat_minor": 5
}
